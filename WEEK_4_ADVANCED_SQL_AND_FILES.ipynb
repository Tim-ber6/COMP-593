{
  "nbformat": 4,
  "nbformat_minor": 0,
  "metadata": {
    "colab": {
      "name": "WEEK 4 ADVANCED SQL AND FILES",
      "provenance": [],
      "include_colab_link": true
    },
    "kernelspec": {
      "name": "python3",
      "display_name": "Python 3"
    }
  },
  "cells": [
    {
      "cell_type": "markdown",
      "metadata": {
        "id": "view-in-github",
        "colab_type": "text"
      },
      "source": [
        "<a href=\"https://colab.research.google.com/github/Tim-ber6/COMP-593/blob/main/WEEK_4_ADVANCED_SQL_AND_FILES.ipynb\" target=\"_parent\"><img src=\"https://colab.research.google.com/assets/colab-badge.svg\" alt=\"Open In Colab\"/></a>"
      ]
    },
    {
      "cell_type": "markdown",
      "metadata": {
        "id": "jtmWSsdu7sGV"
      },
      "source": [
        "# Lab 4 - Advanced SQL / Writing Files\n",
        "\n",
        "In this week's lab, we are going to expand our Really Simple Social Network by adding another table that will record connections between people! Because after all, what good is a social network if you can't ... be social?\n",
        "\n",
        "Afterwards, we will be in a good position to run a report on the data, and then we can sell it to marketers for a massive profit! Isn't it great how few people read the terms of service? `/s`"
      ]
    },
    {
      "cell_type": "markdown",
      "metadata": {
        "id": "u_jgOruj82au"
      },
      "source": [
        "## Importing our database\n",
        "Since we are using a new colab notebook, we will need to reimport our database. Check your D2L Submission if you didn't keep a copy, you should be able to redownload it there. Run the below code block and the file upload picker will appear, after uploading your Database file, check that it appears in the `Files` tab of colab.\n",
        "\n",
        "Remember that you may need to update the listings before it will appear."
      ]
    },
    {
      "cell_type": "code",
      "metadata": {
        "id": "8IIOmhjf7GoX",
        "outputId": "8712da6e-6c8e-416c-90d9-c5c4e4b4b2d4",
        "colab": {
          "resources": {
            "http://localhost:8080/nbextensions/google.colab/files.js": {
              "data": "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",
              "ok": true,
              "headers": [
                [
                  "content-type",
                  "application/javascript"
                ]
              ],
              "status": 200,
              "status_text": "OK"
            }
          },
          "base_uri": "https://localhost:8080/",
          "height": 75
        }
      },
      "source": [
        "from google.colab import files\n",
        "uploaded = files.upload()\n"
      ],
      "execution_count": 60,
      "outputs": [
        {
          "output_type": "display_data",
          "data": {
            "text/html": [
              "\n",
              "     <input type=\"file\" id=\"files-51cb91b5-4ac0-4ae9-b5bb-1394d2159da4\" name=\"files[]\" multiple disabled\n",
              "        style=\"border:none\" />\n",
              "     <output id=\"result-51cb91b5-4ac0-4ae9-b5bb-1394d2159da4\">\n",
              "      Upload widget is only available when the cell has been executed in the\n",
              "      current browser session. Please rerun this cell to enable.\n",
              "      </output>\n",
              "      <script src=\"/nbextensions/google.colab/files.js\"></script> "
            ],
            "text/plain": [
              "<IPython.core.display.HTML object>"
            ]
          },
          "metadata": {}
        },
        {
          "output_type": "stream",
          "name": "stdout",
          "text": [
            "Saving social_network(1)(1).db to social_network(1)(1).db\n"
          ]
        }
      ]
    },
    {
      "cell_type": "markdown",
      "metadata": {
        "id": "Niw3IKvx-034"
      },
      "source": [
        "## Creating our relationship table\n",
        "\n",
        "In the code block below, we will be creating a new table in our database for `relationships` with the following parameters:\n",
        "\n",
        "\n",
        "1.   A primary key column called `id` with the `INTEGER` datatype that is `NOT NULL`\n",
        "2.   A foreign key column called `user_id` that links to the `id` column of the `people` table with the `INTEGER` datatype that is `NOT NULL`\n",
        "3.   Another foreign key column called `friend_id` that also links to the `id` column of the `people` table with the `INTEGER` datatype that is `NOT NULL`\n",
        "4.   A `date_created` table with the `DATE` datatype that is `NOT NULL`\n",
        "\n",
        "The Below codeblock will get you started:\n",
        "\n"
      ]
    },
    {
      "cell_type": "code",
      "metadata": {
        "id": "P2btKpXsANBX"
      },
      "source": [
        "import sqlite3\n",
        "\n",
        "#Retreive the Connection object, rename the file to match your uploaded DB if necessary.\n",
        "myConnection = sqlite3.connect('social_network.db')\n",
        "\n",
        "#Once we have a Connection object, we can generate a Cursor object, and use that to run our SQL Queries\n",
        "myCursor = myConnection.cursor()\n",
        "\n",
        "#The Primary Key column has been provided for you,\n",
        "#Replace '#!...' with the remaining column names, datatypes, and foreign key declarations.\n",
        "#Use the Lecture notes and the previous lab if you are unsure.\n",
        "createRelationshipsTable = \"\"\"CREATE TABLE IF NOT EXISTS relationships (\n",
        "                          id        integer PRIMARY KEY NOT NULL,\n",
        "                          user_id   integer             NOT NULL,\n",
        "                          friend_id integer             NOT NULL,\n",
        "                          FOREIGN KEY(user_id)   REFERENCES people (id), \n",
        "                          FOREIGN KEY(friend_id) REFERENCES people (id)\n",
        "                        );\"\"\"\n",
        "\n",
        "createDateTable = \"\"\"CREATE TABLE IF NOT EXISTS date_created (\n",
        "                  current_date date NOT NULL\n",
        "                  );\"\"\"\n",
        "\n",
        "#Once again, we will execute the query, persist the changes, and close our connection.\n",
        "myCursor.execute(createRelationshipsTable)\n",
        "myCursor.execute(createDateTable)\n",
        "myConnection.commit()\n",
        "myConnection.close()"
      ],
      "execution_count": 30,
      "outputs": []
    },
    {
      "cell_type": "markdown",
      "metadata": {
        "id": "AQ4tDbnaBPpD"
      },
      "source": [
        "## Populating Relationship Data\n",
        "\n",
        "We're not going to be picky about who knows who - so for the purposes of this lab, we're going to use our own version of an AI matchmaker, the `randrange()` method.\n",
        "\n",
        "Complete the below codeblock, inserting 1000 new rows into the relationships table.\n",
        "Use a random number between `1 - 1000` for the `user_id` and `friend_id` columns. This will link up to the `id` column of the `people` table and effectivly simulate a random network of relationships.\n",
        "\n",
        "The below code block is purposely sparse, as you should be able to use the patterns you've identified in the previous lab to complete this task."
      ]
    },
    {
      "cell_type": "code",
      "metadata": {
        "id": "XL7ho2tJCTBG"
      },
      "source": [
        "import sqlite3\n",
        "from datetime import datetime #For generating dates and times\n",
        "from random import randrange #For generating random numbers within a range\n",
        "\n",
        "#Retreive the Connection object, rename the file to match your uploaded DB if necessary.\n",
        "myConnection = sqlite3.connect('social_network(1).db')\n",
        "\n",
        "#Once we have a Connection object, we can generate a Cursor object, and use that to run our SQL Queries\n",
        "myCursor = myConnection.cursor()\n",
        "\n",
        "#Complete the below query\n",
        "query =  \"\"\"INSERT INTO relationships (\n",
        "            user_id,\n",
        "            friend_id)\n",
        "          VALUES (?,?);\"\"\"\n",
        "\n",
        "for _ in range(1000):\n",
        "  #Populate the arguments that will be used in the query\n",
        "  args = (randrange(1,1000),\n",
        "          randrange(1,1000))\n",
        "  #Execute the query\n",
        "  myCursor.execute(query, args)\n",
        "\n",
        "#Commit your changes and close the connection.\n",
        "myConnection.commit()\n",
        "myConnection.close()\n"
      ],
      "execution_count": 48,
      "outputs": []
    },
    {
      "cell_type": "markdown",
      "metadata": {
        "id": "qqZLm-E0E2AV"
      },
      "source": [
        "## Building our Report\n",
        "\n",
        "Now that our AI Matchmaker has generated our network of relationships, a marketing firm is offering us boatloads of cash for information about the amount of friends the users of our social network have.\n",
        "\n",
        "The request is to return the name of each user, and the total number of relationships they have made.\n",
        "\n",
        "If this was explained in awkward pseudo code, it might go something like this:\n",
        "```\n",
        "SELECT all relationships\n",
        "JOIN them to the people they belong to\n",
        "GROUP the results by the person's ID\n",
        "return the person's name and COUNT of their relationships\n",
        "```\n",
        "\n",
        "After you have collected the data, you will need to write it to a `.txt` file. \n",
        "\n",
        "**Your submission will include the report `.txt` file, the copy of your updated `social_network.db` file, and a link to the colab notebook.**\n",
        "\n",
        "Look at the aggregate functions from Week 3 and the Join examples from Week 4. There are a few different ways that you can structure a query to reach the correct answer.\n",
        "\n",
        "**At a minimum, you will need to use a `LEFT JOIN` statement, a `GROUP BY` statement, and a `COUNT()` aggregate function.**\n",
        "\n",
        "The below code block will get you started:"
      ]
    },
    {
      "cell_type": "code",
      "metadata": {
        "id": "0OvhhCMKGkU3",
        "outputId": "1adf14d0-028f-4161-c689-4de05c791f55",
        "colab": {
          "base_uri": "https://localhost:8080/"
        }
      },
      "source": [
        "import sqlite3\n",
        "#from google.colab import files\n",
        "#uploaded = files.upload()\n",
        "#Retreive the Connection object, rename the file to match your uploaded DB if necessary.\n",
        "myConnection = sqlite3.connect('social_network(1)(1).db')\n",
        "\n",
        "#Once we have a Connection object, we can generate a Cursor object, and use that to run our SQL Queries\n",
        "myCursor = myConnection.cursor()\n",
        "\n",
        "#Uncomment the below line after you have determined what the correct mode will be for your file pointer.\n",
        "fp = open('report.txt', mode='w')\n",
        "\n",
        "#Complete the below query\n",
        "query =  \"\"\"SELECT people.name, COUNT(*) FROM relationships\n",
        "            LEFT JOIN people ON relationships.user_id = people.id\n",
        "            GROUP BY relationships.user_id;\n",
        "         \"\"\"\n",
        "\n",
        "myCursor.execute(query)\n",
        "results = myCursor.fetchall()\n",
        "print(results)\n",
        "x = 0\n",
        "for result in results:\n",
        "  #You will want to write the results to the file pointer here.\n",
        "  h = str(results[x]) + \"\\n\"\n",
        "  x = x+1\n",
        "  fp.write(h)\n",
        "  #Use the newline character \\n to create a line break in each write() statement.\n",
        "  #Use print() statements as sanity checks if you are unsure of the integrity of your data.\n",
        "\n",
        "#Don't forget to close the file pointer after you have finished!\n",
        "fp.close()"
      ],
      "execution_count": 86,
      "outputs": [
        {
          "output_type": "stream",
          "name": "stdout",
          "text": [
            "[('Patrick Hoover', 1), ('Anna Price', 1), ('Kathy Jenkins', 1), ('Paul Hayden', 2), ('Michael Taylor', 1), ('Richard Waller', 1), ('Stephanie Odom', 1), ('Bryan Mack', 2), ('Jeff Diaz', 1), ('Stacy Stephens', 1), ('Mrs. Chelsea Mcneil', 1), ('Benjamin Young', 5), ('Benjamin Burgess', 2), ('Kristin Martin', 1), ('Brandon Norris', 1), ('James Sullivan', 1), ('Linda Hicks', 1), ('Robert Stevenson', 3), ('Amy Reed', 5), ('Donna Robbins', 3), ('Alexander Lindsey', 1), ('Amy Becker', 1), ('Mary Mora', 4), ('Kirk Gonzalez', 1), ('Scott Ferguson', 1), ('Richard Weaver', 1), ('Mr. Darren Chavez', 2), ('Kevin Morales', 2), ('Jason Mejia', 1), ('Elizabeth Gallagher', 1), ('Bethany Thomas', 1), ('Benjamin Franklin', 1), ('Shelley Zhang', 2), ('Lori Nelson', 2), ('Harry Clayton', 1), ('Joe Bradley', 1), ('Joseph Bell', 1), ('Carlos Wilson', 1), ('Jessica Jacobs', 2), ('Mark Rodriguez', 1), ('Courtney Le', 1), ('Mrs. Kelsey Ward DDS', 2), ('Sydney Johnson', 2), ('Wesley Coleman', 1), ('Dr. James Stevens', 1), ('Nicholas Simmons', 2), ('Victoria Evans', 1), ('William Jenkins', 1), ('Jennifer Spence', 1), ('Derek Holloway', 1), ('Bruce Brown', 1), ('Sierra Hood', 1), ('Timothy Fuller', 2), ('Sandra Walker', 1), ('Tammy Juarez', 1), ('Jamie Butler', 3), ('Matthew Peterson', 1), ('Jose Whitaker', 3), ('Jessica Thornton', 1), ('Kelly Perez', 1), ('Anthony Sims', 2), ('Meghan Robinson', 1), ('Mark Russell', 1), ('Jennifer Shah', 2), ('John Johnson', 3), ('Jamie Smith', 2), ('Dawn Huynh', 1), ('Kenneth Powell', 3), ('Tina Johnson', 1), ('Jordan Tran', 3), ('Brady Alexander', 1), ('Amy Drake', 1), ('Scott Anderson', 1), ('Erin Martin', 1), ('Tamara Dean', 2), ('Andrea Holmes', 1), ('Mary Reese', 4), ('Emily Lee', 2), ('Elaine Keller', 1), ('Philip Nixon', 3), ('David Wallace', 3), ('Zachary Stewart', 1), ('Kevin Smith', 1), ('Jeremy Velazquez', 1), ('Rebecca Lloyd', 1), ('Heather Brown', 3), ('John Duran', 1), ('Virginia Harrington', 1), ('Christine Powell', 2), ('Brent Munoz', 1), ('Angela Ball', 2), ('Roger Lewis', 2), ('Lauren White', 1), ('Cheryl Sanchez', 1), ('Keith Davis', 3), ('Mr. Matthew Stewart', 3), ('Courtney Decker', 1), ('Todd Molina', 1), ('Beth Brown', 2), ('Manuel Walker', 1), ('Jeffrey Pearson', 1), ('Jesus Lutz', 3), ('Adrian Johnson', 2), ('Alicia Taylor', 1), ('Alyssa Gates', 2), ('Anne Morris', 1), ('Linda Miller MD', 1), ('Renee Andrews', 2), ('Spencer Smith', 1), ('Cynthia Campbell', 1), ('Michael Bradshaw', 1), ('Christian Vasquez', 3), ('George David', 3), ('Tammy Estrada', 1), ('Patricia Rodriguez', 1), ('Garrett Griffin', 1), ('Christopher Vasquez', 2), ('Crystal Higgins', 3), ('Jason Ball', 2), ('Austin Underwood', 1), ('Mary Anderson', 2), ('Miss Anna Owens', 1), ('April Reynolds', 1), ('Daniel Perkins', 1), ('Sharon Daniels', 2), ('Yolanda Hoffman', 1), ('James Durham', 1), ('Ann Davis', 2), ('Madison Hayes', 2), ('Charles Ortiz', 1), ('Shannon Curtis', 1), ('Allen Ali', 2), ('Robert Russell', 1), ('Anthony King', 1), ('Brandi Werner', 2), ('Emily Young', 2), ('Lisa Weiss', 1), ('Susan Finley', 3), ('Timothy Thomas', 1), ('Robert Mata', 1), ('Brian George', 1), ('Jeremy Martin', 3), ('Lisa Allen', 1), ('Brian King', 1), ('Peter Jackson', 2), ('Joanne Smith', 2), ('Alexandra Turner', 1), ('Justin Sparks', 1), ('Jennifer Bauer DVM', 1), ('Timothy Brown', 3), ('Erin Lopez', 1), ('John Woods', 1), ('Sara Garrett', 2), ('Dr. Tara Harris DDS', 1), ('Alison Warren', 1), ('Samuel Anderson', 2), ('Alisha Huang', 1), ('John Zavala', 1), ('Shannon Nguyen', 1), ('Jacqueline Willis', 2), ('Peter Newton', 3), ('Tyler Hernandez', 3), ('Scott Holt', 1), ('April Hayes', 1), ('Paul Taylor', 1), ('Amanda Roberts', 2), ('Bradley Weber', 1), ('Kristin Ramirez', 3), ('April Leonard', 2), ('Craig Oliver', 1), ('Ashlee Powell', 2), ('Brett James', 1), ('Shelly Phelps', 1), ('Kerri Hodge', 1), ('Joe Watkins', 2), ('Carlos Colon', 1), ('Bryan Greer', 3), ('Debra Brown', 1), ('Michael Thompson', 1), ('Christine Soto', 1), ('Kenneth Phillips', 2), ('Michael Smith', 1), ('Jason Gallagher', 1), ('William Palmer', 1), ('Daniel Andrews', 2), ('Sarah Shields', 4), ('Sarah Trujillo', 3), ('Alicia Stark', 1), ('Christopher Hernandez MD', 2), ('Cindy Barnes', 1), ('Brooke Floyd', 1), ('Philip Wolf', 1), ('Sheri Rodriguez', 3), ('Thomas Parker', 1), ('Katie Cochran', 3), ('John Arnold', 2), ('Steven Dawson', 2), ('Allison Wade', 1), ('Timothy Reynolds', 1), ('Amber Hernandez', 3), ('Michael Rose', 1), ('Gregory Duncan', 1), ('Patrick Martinez', 2), ('Levi Holland', 2), ('Wendy Kerr', 3), ('Claudia Williams', 1), ('Carolyn Griffin', 1), ('Stacey Moss', 1), ('Jennifer Barnes', 1), ('Erica Evans', 2), ('Dawn Nelson', 2), ('Eric Kelly', 1), ('Ryan Murphy', 1), ('Miguel Rodriguez', 1), ('Chad Smith', 3), ('Dawn Williams', 3), ('James Garcia', 2), ('William Colon', 1), ('Christine Smith', 2), ('James Evans', 1), ('Jason Moore', 2), ('Jordan Blankenship', 1), ('Brian Leon', 1), ('Dr. Kristen Perez', 1), ('Jody Graves', 1), ('Lauren Walker', 3), ('Alexis Suarez', 1), ('Brett Frank Jr.', 1), ('Allison Lewis', 2), ('Sergio Gray', 1), ('John Myers', 1), ('Tracy Payne', 1), ('Kim Johnson', 1), ('Maria Macdonald', 1), ('Regina Rodriguez', 1), ('Joyce Wallace', 2), ('Jacob King', 3), ('Kiara Heath', 2), ('Christopher Steele', 1), ('Andrew Young', 2), ('William Page', 1), ('Cody Torres', 2), ('Heather Green', 1), ('Eric Coleman', 1), ('Anthony Moyer', 1), ('Brenda Evans', 1), ('Ashley York', 1), ('Joel Garrett', 1), ('Nicole Stone', 2), ('Derek Martin', 2), ('Jamie Ryan', 2), ('Matthew Green', 1), ('Jenna Bates', 2), ('Carol Mercado', 1), ('Cynthia Rodriguez', 2), ('Nathan Bell', 1), ('Dylan Hawkins', 1), ('Bruce Marks', 2), ('Taylor Peters', 1), ('Danielle Flynn', 2), ('Jennifer Potter', 2), ('Evan Lang', 2), ('Janet George', 1), ('Lee Delgado', 2), ('Kimberly Franklin', 1), ('Calvin Nunez', 1), ('Alyssa Johnson', 2), ('Brian Ortiz', 2), ('Tracy James', 1), ('Tammy Robles', 1), ('Christopher White', 1), ('Randall Hurst', 2), ('Robert Rowe', 1), ('Laura Baker', 1), ('Jennifer Wilson', 1), ('Zachary Evans', 2), ('Mark Cobb', 3), ('Catherine Perez', 2), ('Laura Hicks', 2), ('Charles Hill', 4), ('Cassandra Lynch', 1), ('Kimberly Allen', 2), ('Molly Hunt', 1), ('Julie Hall', 1), ('Donna Young', 1), ('Amanda Christian', 1), ('David Salas', 1), ('Brittany Sosa', 2), ('Rodney Stevens', 4), ('Ronnie Bruce', 1), ('Brianna Rivera', 2), ('Sarah Hayes', 1), ('John Quinn', 2), ('Amanda Smith', 1), ('Ann Parker', 2), ('Leonard Ellis', 1), ('John Washington', 1), ('Ryan Neal', 1), ('Holly Howell', 2), ('Paula Park', 3), ('Bruce Burns', 1), ('Jorge Thornton', 2), ('Robert Russell', 1), ('Donna Delgado', 1), ('Joseph Reid', 2), ('Stephanie Wilson', 1), ('Joel Torres MD', 1), ('April Rose', 1), ('Christopher Roberts', 1), ('Cody Miller', 1), ('Christopher Peters', 2), ('Ryan George', 2), ('Eric Dunn', 1), ('Anthony Duke', 1), ('Leslie Terry', 2), ('Justin Herrera', 2), ('Samuel Anderson', 1), ('Patricia Garcia', 2), ('Cheryl Haynes', 1), ('Sean Washington', 1), ('Chad Guerrero', 1), ('Linda Brown', 1), ('Lori Fitzpatrick', 2), ('Erica Golden', 1), ('Kelly Horton', 2), ('Emma Robertson', 1), ('Larry Miller', 2), ('Jasmine Vasquez', 2), ('Tina Roberts', 1), ('Ryan Watson', 1), ('Kelli Scott', 1), ('Megan Smith', 2), ('Dillon Rose', 2), ('Holly Cobb', 2), ('Joann Scott', 2), ('Stacy Ramirez', 2), ('Jaclyn Blair', 1), ('Frank Gonzalez', 3), ('Colin Fletcher', 2), ('Kevin Wright', 3), ('Roberto Barnett PhD', 1), ('Jennifer Norman', 1), ('Kimberly Collier', 2), ('Jared Parker', 3), ('Lori Thompson', 1), ('Sarah Williams', 1), ('Keith Reed', 3), ('Susan Swanson', 1), ('Elizabeth Kelley', 3), ('Jason Simon', 2), ('Amanda Pierce', 3), ('Rachel Grant', 1), ('Micheal Patterson', 1), ('Matthew Martinez', 1), ('Natalie Bryant', 1), ('Lindsay Payne', 1), ('Patricia Taylor', 1), ('Michael Reid', 2), ('Samuel Williams', 1), ('Michael Nielsen', 1), ('Brandon King', 2), ('Meghan Dunlap', 2), ('Elizabeth Smith', 2), ('Virginia Newman', 3), ('Julia Meyer', 1), ('Manuel Parsons', 1), ('Jasmine Anderson', 2), ('Troy Torres DVM', 1), ('Mary Perez', 1), ('Tammy Taylor', 1), ('Eric Wilkins', 1), ('Brian Larsen', 1), ('Laura Brown', 1), ('Emily Hatfield', 2), ('Samantha Vargas', 1), ('Tiffany Bradley', 1), ('Barbara Moore', 4), ('Lisa Harrington', 1), ('Thomas Carroll', 2), ('Mckenzie Brown', 4), ('Paula Reeves', 1), ('Marissa Dixon', 1), ('William Mora', 3), ('Leslie Banks', 1), ('Matthew Wise', 4), ('Kelly Long', 1), ('Dr. Lindsey Conway', 1), ('Heather Cooper', 2), ('Teresa Obrien', 1), ('Susan Oconnell', 2), ('Nicholas Saunders', 3), ('Stephen Johnson', 1), ('Anthony Baker', 2), ('Courtney Jones', 2), ('Darius Bradshaw', 2), ('Dawn Huerta', 1), ('Trevor Martinez', 2), ('Thomas Ochoa', 3), ('Maria Garcia', 2), ('Rodney Mills', 1), ('Lisa Tanner', 3), ('Sarah Williams', 3), ('David Campbell', 2), ('Sandra Powers', 1), ('Wendy Hunt', 2), ('John Evans', 3), ('Angela Ellis', 1), ('Christina Ewing', 1), ('Michelle Marshall', 1), ('Randy Brown', 3), ('Jenna Miller', 1), ('Yvonne Harris', 1), ('Paul Smith', 4), ('Sheila Rodriguez', 2), ('John Hampton', 2), ('Teresa Smith', 1), ('Maria Mendoza', 1), ('Patrick Maxwell', 1), ('Ashley Martinez', 1), ('Robert Johnson', 1), ('Jerry Taylor', 2), ('Bryan Gardner', 2), ('Teresa Gardner', 2), ('Sabrina Jones', 1), ('Jody Ball', 1), ('Elizabeth Tate', 1), ('Lawrence Johnson', 2), ('Charles Barrera', 2), ('Anna Murphy', 1), ('Steven Richards', 1), ('Autumn Moon', 2), ('Melanie Norman', 1), ('Sarah Bridges', 1), ('Brittany Cherry', 2), ('Gloria George', 2), ('Gary Romero', 1), ('Kimberly Smith', 1), ('Danielle Harrison', 1), ('Lisa Phillips', 2), ('Brandon Richardson', 1), ('Kelly Taylor', 2), ('Carol Rodriguez', 3), ('Peter Riley', 1), ('Angela Kaiser', 1), ('Margaret Chapman', 2), ('Sarah Wade', 2), ('Richard Haas', 2), ('Danielle Johnson', 1), ('Lindsey Wright', 1), ('Maria Griffin', 1), ('Mr. Daniel Clark', 2), ('Nicholas Robertson', 2), ('Ryan Hernandez', 1), ('Robin Davis', 2), ('David Nichols', 2), ('Jeremy Winters', 1), ('Lynn Harris', 1), ('Eugene Huff', 1), ('Nicholas Velazquez', 2), ('Kaitlyn Snow', 2), ('Leslie Lee', 2), ('Catherine Bailey', 1), ('Bryce Brown', 3), ('Kristin Goodwin', 1), ('Gregory Casey', 1), ('Julia Ashley', 1), ('Cody Arnold', 1), ('Peter Larsen', 3), ('Jesse Barnes', 2), ('Nathaniel Thornton', 3), ('Samuel Acosta', 1), ('Adam Bryant', 1), ('Jessica Moyer', 3), ('Renee King', 3), ('David Stone', 2), ('Jackie Erickson', 1), ('Gregory Lindsey', 3), ('Mathew Martinez', 1), ('Daniel Soto', 2), ('Leah Evans', 2), ('Michael Pope', 2), ('Matthew Long', 1), ('Michael Griffith', 2), ('Jennifer Wright', 2), ('David Simmons', 1), ('Denise Saunders', 1), ('Mary Jones', 1), ('Ryan Jackson', 1), ('Denise Wolf MD', 1), ('Michael Moore', 1), ('Lisa Walker', 1), ('Carol Tyler', 1), ('Jesse Park', 1), ('Kimberly Shea', 2), ('Matthew Arellano', 1), ('Carla Dunn', 1), ('Ann King', 1), ('Daniel Barnett', 2), ('Ronald Rivers', 1), ('Ashley Williams', 2), ('Donna Ramirez', 1), ('Hector Moss', 2), ('Jessica Murray', 1), ('Andre Gonzalez', 1), ('Sheryl Perez', 1), ('Tina Webb', 1), ('Monique Hooper', 5), ('Mary Larson', 2), ('Sheryl Wong', 2), ('Kenneth Mcdonald', 1), ('Nicholas Clarke', 1), ('Steven Gonzales', 1), ('Catherine Schultz', 1), ('Tracey Johnson', 2), ('Philip Smith', 1), ('Harold Oconnell', 2), ('Chad Mcgrath', 2), ('Jennifer Young', 2), ('Erika Kane', 4), ('Jason Macias', 1), ('Timothy Ray', 4), ('Cody Ball', 2), ('Amber Allen', 2), ('Cynthia Horn', 1), ('Shari Edwards', 2), ('Edwin Ward', 1), ('Jonathon Cook', 1), ('Michael Garcia', 1), ('Kristen Santos', 2), ('Amy Guzman', 1), ('Matthew Peterson', 1), ('Sarah Nguyen', 3), ('Whitney Hawkins', 3), ('John Gonzalez', 2), ('Angel Velasquez', 1), ('Jeremy Morris Jr.', 1), ('Melanie Kelly', 1), ('Daniel Moore', 2), ('Amanda Price', 2), ('Judith Ward', 2), ('Sara Hernandez', 2), ('Kevin Ray', 1), ('Paula Brown', 1), ('Melissa Smith', 2), ('Tony Glover', 3), ('Crystal Allison', 2), ('Jordan Thompson', 2), ('Rebecca Mendez', 1), ('Lauren Townsend', 1), ('Julie Hall', 3), ('John Jones', 2), ('Jeffrey Williams', 1), ('Hayden Williams', 1), ('Danielle Barker', 2), ('Kevin Hensley', 1), ('Dr. Allen Valdez', 1), ('Robin Brown', 2), ('Chelsea Moore', 2), ('Kelsey Mcclure', 1), ('Crystal Hinton', 1), ('Kyle Lambert', 1), ('Misty Bartlett', 1), ('Dawn Rodriguez', 1), ('Angel Ray', 2), ('Donald Edwards', 2), ('Jennifer Hicks', 2), ('Zachary Miller', 1), ('Jesus Ross', 1), ('Mariah Nelson', 4), ('Zachary Watkins', 1), ('Mark Anderson', 3), ('Donald Hansen', 1), ('Aaron Torres', 1), ('Donald Barnett', 1), ('Jennifer Morton', 2), ('Michael Johnson', 3), ('Jonathan Lucero', 1), ('Alexa Ford', 2), ('Carly Wilson', 1), ('Leslie Fernandez', 1), ('Sharon Ochoa', 2), ('James Knight', 2), ('Taylor Adams', 1), ('Cynthia Austin', 1), ('Michael Rasmussen', 1), ('Casey Brown', 1), ('Timothy Bass', 1), ('Robert Jones', 2), ('Brianna Becker', 1), ('Noah Mcdonald', 1), ('Thomas Webster', 4), ('Savannah Clark', 1), ('Sandra Sanchez', 1), ('Cody Davis', 2), ('Joseph Snow', 1), ('Tammy Holland', 1), ('Robert Edwards', 1), ('Elizabeth Lynch', 1), ('Steven Wheeler', 2), ('Allison Wright', 1), ('Sarah Baker', 1), ('Chloe Matthews', 2), ('Debra Wallace', 1), ('Eric Harrison', 2), ('Valerie Kelly', 2), ('Judith Ware', 1), ('Jennifer Robinson', 4), ('David Ortiz', 2), ('Heather Ward', 1), ('Ronald Andersen', 3), ('Nicole Donovan DVM', 1), ('Janet Hart', 1), ('Angel Thompson', 2), ('Ralph Thompson', 1), ('Alyssa Fox', 2), ('Linda Young', 1), ('Sharon Brown', 3), ('Paige Romero', 2), ('Frederick Shelton', 1), ('Timothy Atkins', 1), ('Raymond Stevens', 2), ('Jeffrey Keith', 1), ('Alicia Mendoza', 2), ('Diamond Graham', 2), ('Kim Bryant', 2), ('Stephanie Andrews', 1), ('Margaret Gonzalez', 1), ('Katherine Rose', 1)]\n"
          ]
        }
      ]
    },
    {
      "cell_type": "markdown",
      "metadata": {
        "id": "uhxqLV4TNnjA"
      },
      "source": [
        "### Challenge: Write a CSV file\n",
        "\n",
        "**This challenge isn't for extra marks, it's an opportunity for you to engage in some self guided discovery, only if you feel like it, and only if you have time.**\n",
        "\n",
        "If you want to challenge yourself, alter the report so that it conforms with the `.csv` file type. There are a number of ways to do this, you can use the `Pandas` module, the `csv` module, or manually."
      ]
    }
  ]
}